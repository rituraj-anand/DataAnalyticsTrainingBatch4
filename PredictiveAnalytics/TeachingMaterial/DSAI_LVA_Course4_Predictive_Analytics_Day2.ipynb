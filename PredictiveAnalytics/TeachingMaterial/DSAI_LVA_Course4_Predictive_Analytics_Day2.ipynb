{
  "nbformat": 4,
  "nbformat_minor": 0,
  "metadata": {
    "colab": {
      "provenance": []
    },
    "kernelspec": {
      "name": "python3",
      "display_name": "Python 3"
    },
    "language_info": {
      "name": "python"
    }
  },
  "cells": [
    {
      "cell_type": "code",
      "source": [
        "## ~~~~~~~~~~~~~~~~~~~~~~~~~~~~~~\n",
        "##\n",
        "## Using multiple classifiers for the same problem on the same data\n",
        "## Decision Tree, Random Forest, and KNeighborsClassifier\n",
        "## Train and Test Split\n",
        "## ~~~~~~~~~~~~~~~~~~~~~~~~~~~~~~\n",
        "from sklearn import datasets\n",
        "iris = datasets.load_iris()\n",
        "\n",
        "X= iris.data\n",
        "y=iris.target\n",
        "\n",
        "from sklearn.model_selection import train_test_split\n",
        "X_train, X_test, y_train, y_test = train_test_split(X,y, test_size = .5)\n",
        "# ~~~~~~~~~~~~~~~~~~~~~~~~~~~~~~~\n",
        "## Model #1 -  DecisionTree\n",
        "# ~~~~~~~~~~~~~~~~~~~~~~~~~~~~~~~\n",
        "#from sklearn import tree\n",
        "#vAR_classifier = tree.DecisionTreeClassifier()\n",
        "#print(\"tree.DecisionTreeClassifier\")\n",
        "# ~~~~~~~~~~~~~~~~~~~~~~~~~~~~~~~\n",
        "## Model #2 -  KNeighborsClassifier\n",
        "# ~~~~~~~~~~~~~~~~~~~~~~~~~~~~~~~\n",
        "\n",
        "from sklearn.neighbors import KNeighborsClassifier\n",
        "vAR_classifier = KNeighborsClassifier()\n",
        "print(\"KNeighborsClassifier\")\n",
        "\n",
        "# ~~~~~~~~~~~~~~~~~~~~~~~~~~~~~~~\n",
        "## Model #3 -  RandomForestClassifier\n",
        "# ~~~~~~~~~~~~~~~~~~~~~~~~~~~~~~~\n",
        "#from sklearn.ensemble import RandomForestClassifier\n",
        "#vAR_classifier = RandomForestClassifier()\n",
        "#print(\"RandomForestClassifier\")\n",
        "\n",
        "vAR_classifier.fit(X_train,y_train) ## Model Training\n",
        "\n",
        "vAR_predictions=vAR_classifier.predict(X_test) ## Model Testing\n",
        "\n",
        "#print(vAR_predictions)\n",
        "from sklearn.metrics import accuracy_score\n",
        "\n",
        "vAR_model_accuracy = accuracy_score(vAR_predictions,y_test)\n",
        "print(vAR_model_accuracy)"
      ],
      "metadata": {
        "id": "fPFVtZCGAxBI",
        "colab": {
          "base_uri": "https://localhost:8080/"
        },
        "outputId": "194c73ac-e724-4168-ce75-a10a387265a0"
      },
      "execution_count": null,
      "outputs": [
        {
          "output_type": "stream",
          "name": "stdout",
          "text": [
            "KNeighborsClassifier\n",
            "0.96\n"
          ]
        }
      ]
    },
    {
      "cell_type": "code",
      "execution_count": null,
      "metadata": {
        "id": "ekogyB72-btm"
      },
      "outputs": [],
      "source": [
        "## ~~~~~~~~~~~~~~~~~~~~~~~~~~~~~~\n",
        "## LabelEncoder\n",
        "## Ethnicity is a nominal variable with no order, but the model assumes orders.\n",
        "## Problem Statement: Convert categorical values (Labels) into numerical values for labels, targets, and outputs\n",
        "## ~~~~~~~~~~~~~~~~~~~~~~~~~~~~~~\n",
        "##\n",
        "## LabelEncoder encodes labels with a value between 0 and n_classes-1, where n is the number of distinct labels.\n",
        "## If a label repeats it assigns the same value to as assigned earlier.\n",
        "##\n",
        "\n",
        "import pandas as pd\n",
        "df =  pd.read_csv(\"/content/sample_data/Ethnicity.csv\")\n",
        "#print(df.head()) # Top 5 rows\n",
        "#df.tail()\n",
        "#df.dtypes\n",
        "#df[\"Ethnicity\"].unique()\n",
        "#df[\"Ethnicity\"].value_counts()\n",
        "\n",
        "from sklearn.preprocessing import LabelEncoder\n",
        "label_encoder = LabelEncoder() ## Initialize the LabelEncoder\n",
        "\n",
        "print(label_encoder) ## Empty\n",
        "\n",
        "df[\"Ethnicitys\"] = label_encoder.fit_transform(df[\"Ethnicity\"])\n",
        "\n",
        "print(df.head())\n",
        "df.tail()\n",
        "df.dtypes\n",
        "df[\"Ethnicitys\"].unique()\n",
        "df[\"Ethnicitys\"].value_counts()\n"
      ]
    },
    {
      "cell_type": "code",
      "source": [
        "## ~~~~~~~~~~~~~~~~~~~~~~~~~~~~~~\n",
        "## OneHotEncoder\n",
        "## SENTIMENT is an ordinal variable with order, but the model assumes orders.\n",
        "## Problem Statement: Convert categorical values (features) into numerical values for input data\n",
        "## ~~~~~~~~~~~~~~~~~~~~~~~~~~~~~~\n",
        "##\n",
        "## LabelEncoder assigns a numerical label to each category,\n",
        "## while OneHotEncoder creates a binary vector representation of the categorical data,\n",
        "## where each column represents a unique category.\n",
        "##\n",
        "\n",
        "from sklearn.preprocessing import OneHotEncoder\n",
        "import pandas as pd\n",
        "\n",
        "# Create a sample dataframe with categorical variables\n",
        "data = {'SENTIMENT': ['Excellent', 'Good', 'Average', 'Bad']} ## ???\n",
        "df = pd.DataFrame(data)\n",
        "print(df)\n",
        "# Initialize the OneHotEncoder\n",
        "encoder = OneHotEncoder()\n",
        "\n",
        "# Fit and transform the data frame\n",
        "encoded_data = encoder.fit_transform(df[['SENTIMENT']])\n",
        "\n",
        "# Convert the encoded data to a pandas dataframe\n",
        "\n",
        "encoded_df = pd.DataFrame(encoded_data.toarray(), columns=encoder.get_feature_names_out(['SENTIMENT']))\n",
        "\n",
        "# Print the encoded dataframe\n",
        "#print(encoded_data)\n",
        "print(encoded_df)"
      ],
      "metadata": {
        "id": "d9c4U2Wn_UY5"
      },
      "execution_count": null,
      "outputs": []
    },
    {
      "cell_type": "code",
      "source": [
        "## ~~~~~~~~~~~~~~~~~~~~~~~~~~~~~~\n",
        "## OneHotEncoder\n",
        "## Color is a nominal variable with no order, but the model assumes orders.\n",
        "## ~~~~~~~~~~~~~~~~~~~~~~~~~~~~~~\n",
        "\n",
        "from sklearn.preprocessing import OneHotEncoder\n",
        "import pandas as pd\n",
        "# Create a sample dataframe with categorical variables\n",
        "data = {'Color': ['red', 'blue2', 'green', 'blue1']} ##???\n",
        "df = pd.DataFrame(data)\n",
        "print(df)\n",
        "# Initialize the OneHotEncoder\n",
        "encoder = OneHotEncoder()\n",
        "# Fit and transform the dataframe\n",
        "encoded_data = encoder.fit_transform(df[['Color']])\n",
        "# Convert the encoded data to a pandas dataframe\n",
        "encoded_df = pd.DataFrame(encoded_data.toarray(), columns=encoder.get_feature_names_out(['Color']))\n",
        "# Print the encoded dataframe\n",
        "print(encoded_df)"
      ],
      "metadata": {
        "id": "6464mq9p_xXi"
      },
      "execution_count": null,
      "outputs": []
    },
    {
      "cell_type": "code",
      "source": [
        "## ~~~~~~~~~~~~~~~~~~~~~~~~~~~~~~\n",
        "## Supervised Machine Learning\n",
        "## Problem Type: Regression\n",
        "## Model: LinearRegression\n",
        "## Problem Statement: Based on the property's location and size, predict apartment rents\n",
        "##\n",
        "## Categorical Variables and Dummy variables\n",
        "## 'Location' is a nominal variable with no order, but the model assumes orders.\n",
        "## ~~~~~~~~~~~~~~~~~~~~~~~~~~~~~~\n",
        "\n",
        "import pandas as pd\n",
        "import warnings\n",
        "warnings.filterwarnings(\"ignore\")\n",
        "df = pd.read_csv(\"/content/sample_data/DSAI-LVA-Rent-Data.csv\")\n",
        "df\n",
        "## ~~~~~~~~~~~~~~~~~~~~~~~~~~~~~~\n",
        "## Using DF Dummies\n",
        "## The get_dummies function is used to convert categorical variables into dummy or indicator variables.\n",
        "## A dummy or indicator variable can have a value of 0 or 1.\n",
        "## ~~~~~~~~~~~~~~~~~~~~~~~~~~~~~~\n",
        "\n",
        "dummies = pd.get_dummies(df.Location)\n",
        "#print(dummies)\n",
        "#print(\"Dummies Data____________________________\")\n",
        "#merged = pd.concat([df,dummies],axis='columns')\n",
        "#print(merged)\n",
        "#print(\"Merged Data____________________________\")\n",
        "#final = merged.drop(['Location'], axis='columns') ## Original Column\n",
        "#print(final)\n",
        "#print(\"After Dropping Location____________________________\")\n",
        "#final = final.drop(['Guindy'], axis='columns') ## Dummy variable trap, Highly Correlated, Drop One of them (any one)\n",
        "#print(final)\n",
        "#print(\"____________________________\")\n",
        "\n",
        "#X = final.drop('Rent_Price', axis='columns') ## Training Data (Location and Size)\n",
        "#X\n",
        "#y = final.Rent_Price ## Test Data (Rent_Price)\n",
        "#y\n",
        "#from sklearn.linear_model import LinearRegression\n",
        "#model = LinearRegression()\n",
        "#model.fit(X,y)# Training the Model\n",
        "#model.predict(X) # Test Data\n",
        "#model.score(X,y) ## Compare the predicted values\n",
        "#model.predict([[3400,0,0]]) # 3400 sqr ft home in Anna Nagar\n",
        "#model.predict([[2800,0,1]]) # 2800 sqr ft home in Tambaram\n",
        "\n",
        "##\n",
        "## What is dummy variable trap?\n",
        "##"
      ],
      "metadata": {
        "id": "7RhLDq0tAELL"
      },
      "execution_count": null,
      "outputs": []
    },
    {
      "cell_type": "code",
      "source": [
        "##\n",
        "## Understanding the Model Features\n",
        "##\n",
        "##\n",
        "##\n",
        "\n",
        "import numpy as np\n",
        "import matplotlib.pyplot as plt\n",
        "indian = 500\n",
        "chinese = 500\n",
        "\n",
        "indian_height =  28 + 4 * np.random.randn(indian)\n",
        "chinese_height = 24 + 4 * np.random.randn(chinese)\n",
        "\n",
        "#plt.hist([indian_height,chinese_height], stacked=True, color=['r','b']) ## stacked histogram\n",
        "plt.hist([indian_height,chinese_height], color=['r','b'])\n",
        "plt.show()\n"
      ],
      "metadata": {
        "colab": {
          "base_uri": "https://localhost:8080/",
          "height": 430
        },
        "id": "mdGew1xrA6sg",
        "outputId": "e47e9485-9da2-4b53-dfeb-e4144a03729e"
      },
      "execution_count": null,
      "outputs": [
        {
          "output_type": "display_data",
          "data": {
            "text/plain": [
              "<Figure size 640x480 with 1 Axes>"
            ],
            "image/png": "[encoded data removed]"
          },
          "metadata": {}
        }
      ]
    }
  ]
}